{
 "cells": [
  {
   "cell_type": "code",
   "execution_count": 1,
   "metadata": {},
   "outputs": [],
   "source": [
    "import numpy as np\n",
    "import matplotlib.pyplot as plt\n",
    "import pandas as pd\n",
    "from sklearn.model_selection import train_test_split\n",
    "import h5py"
   ]
  },
  {
   "cell_type": "markdown",
   "metadata": {},
   "source": [
    "# 2D-Dataset: braindr\n",
    "- five slices from each case\n",
    "- the time is messerued\n",
    "- the citicens can choose fail or pass each image\n",
    "- 3609 images with minimum of 19 rates!"
   ]
  },
  {
   "cell_type": "code",
   "execution_count": 11,
   "metadata": {},
   "outputs": [],
   "source": [
    "# get csv  \n",
    "path_to_braindr_ratings = '../../project/data/braindr_data.csv'\n",
    "braindr_data_csv = pd.read_csv(path_to_braindr_ratings)\n",
    "braindr_data_csv['image_name'] = [row.split('_')[0] + '_' + row.split('_')[1] for row in braindr_data_csv['image_id']]\n",
    "braindr_data_csv['image_pos'] = [row.split('_')[-1] for row in braindr_data_csv['image_id']]\n",
    "braindr_data_csv\n",
    "\n"
   ]
  },
  {
   "cell_type": "code",
   "execution_count": 4,
   "metadata": {},
   "outputs": [
    {
     "data": {
      "text/plain": [
       "['X', 'labels', 'X_vgg']"
      ]
     },
     "execution_count": 4,
     "metadata": {},
     "output_type": "execute_result"
    }
   ],
   "source": [
    "# load data of braindr_slice_data.npz\n",
    "raw_data = np.load('../data/braindr_slice_data.npz', allow_pickle=True)\n",
    "data_image_ids = raw_data['labels']"
   ]
  },
  {
   "cell_type": "code",
   "execution_count": null,
   "metadata": {},
   "outputs": [],
   "source": []
  },
  {
   "cell_type": "code",
   "execution_count": 12,
   "metadata": {},
   "outputs": [
    {
     "data": {
      "text/html": [
       "<div>\n",
       "<style scoped>\n",
       "    .dataframe tbody tr th:only-of-type {\n",
       "        vertical-align: middle;\n",
       "    }\n",
       "\n",
       "    .dataframe tbody tr th {\n",
       "        vertical-align: top;\n",
       "    }\n",
       "\n",
       "    .dataframe thead th {\n",
       "        text-align: right;\n",
       "    }\n",
       "</style>\n",
       "<table border=\"1\" class=\"dataframe\">\n",
       "  <thead>\n",
       "    <tr style=\"text-align: right;\">\n",
       "      <th></th>\n",
       "      <th>vote</th>\n",
       "      <th>image_name</th>\n",
       "      <th>image_pos</th>\n",
       "      <th>sort_values</th>\n",
       "    </tr>\n",
       "    <tr>\n",
       "      <th>image_id</th>\n",
       "      <th></th>\n",
       "      <th></th>\n",
       "      <th></th>\n",
       "      <th></th>\n",
       "    </tr>\n",
       "  </thead>\n",
       "  <tbody>\n",
       "    <tr>\n",
       "      <th>sub-NDARJY141RFE_T1w__ax_73</th>\n",
       "      <td>0.047619</td>\n",
       "      <td>sub-NDARJY141RFE_T1w</td>\n",
       "      <td>73</td>\n",
       "      <td>1438.0</td>\n",
       "    </tr>\n",
       "    <tr>\n",
       "      <th>sub-NDARTT759PC5_T1w__ax_90</th>\n",
       "      <td>0.050000</td>\n",
       "      <td>sub-NDARTT759PC5_T1w</td>\n",
       "      <td>90</td>\n",
       "      <td>2584.0</td>\n",
       "    </tr>\n",
       "    <tr>\n",
       "      <th>sub-NDARXT792GY8_T1w__ax_186</th>\n",
       "      <td>0.050000</td>\n",
       "      <td>sub-NDARXT792GY8_T1w</td>\n",
       "      <td>186</td>\n",
       "      <td>3221.0</td>\n",
       "    </tr>\n",
       "    <tr>\n",
       "      <th>sub-NDARWT389BYY_T1w__ax_74</th>\n",
       "      <td>0.083333</td>\n",
       "      <td>sub-NDARWT389BYY_T1w</td>\n",
       "      <td>74</td>\n",
       "      <td>3021.0</td>\n",
       "    </tr>\n",
       "    <tr>\n",
       "      <th>sub-NDARHF904CWB_T1w__ax_99</th>\n",
       "      <td>0.090909</td>\n",
       "      <td>sub-NDARHF904CWB_T1w</td>\n",
       "      <td>99</td>\n",
       "      <td>1114.0</td>\n",
       "    </tr>\n",
       "    <tr>\n",
       "      <th>...</th>\n",
       "      <td>...</td>\n",
       "      <td>...</td>\n",
       "      <td>...</td>\n",
       "      <td>...</td>\n",
       "    </tr>\n",
       "    <tr>\n",
       "      <th>sub-NDARGB441VVD_T1w__ax_146</th>\n",
       "      <td>1.000000</td>\n",
       "      <td>sub-NDARGB441VVD_T1w</td>\n",
       "      <td>146</td>\n",
       "      <td>912.0</td>\n",
       "    </tr>\n",
       "    <tr>\n",
       "      <th>sub-NDARGB441VVD_T1w__ax_66</th>\n",
       "      <td>1.000000</td>\n",
       "      <td>sub-NDARGB441VVD_T1w</td>\n",
       "      <td>66</td>\n",
       "      <td>913.0</td>\n",
       "    </tr>\n",
       "    <tr>\n",
       "      <th>sub-NDARGB441VVD_T1w__ax_86</th>\n",
       "      <td>1.000000</td>\n",
       "      <td>sub-NDARGB441VVD_T1w</td>\n",
       "      <td>86</td>\n",
       "      <td>914.0</td>\n",
       "    </tr>\n",
       "    <tr>\n",
       "      <th>sub-NDARFW130NGG_T1w__ax_78</th>\n",
       "      <td>1.000000</td>\n",
       "      <td>sub-NDARFW130NGG_T1w</td>\n",
       "      <td>78</td>\n",
       "      <td>863.0</td>\n",
       "    </tr>\n",
       "    <tr>\n",
       "      <th>sub-NDARWJ019VGU_T1w__ax_145</th>\n",
       "      <td>1.000000</td>\n",
       "      <td>sub-NDARWJ019VGU_T1w</td>\n",
       "      <td>145</td>\n",
       "      <td>2960.0</td>\n",
       "    </tr>\n",
       "  </tbody>\n",
       "</table>\n",
       "<p>3607 rows × 4 columns</p>\n",
       "</div>"
      ],
      "text/plain": [
       "                                  vote            image_name image_pos  \\\n",
       "image_id                                                                 \n",
       "sub-NDARJY141RFE_T1w__ax_73   0.047619  sub-NDARJY141RFE_T1w        73   \n",
       "sub-NDARTT759PC5_T1w__ax_90   0.050000  sub-NDARTT759PC5_T1w        90   \n",
       "sub-NDARXT792GY8_T1w__ax_186  0.050000  sub-NDARXT792GY8_T1w       186   \n",
       "sub-NDARWT389BYY_T1w__ax_74   0.083333  sub-NDARWT389BYY_T1w        74   \n",
       "sub-NDARHF904CWB_T1w__ax_99   0.090909  sub-NDARHF904CWB_T1w        99   \n",
       "...                                ...                   ...       ...   \n",
       "sub-NDARGB441VVD_T1w__ax_146  1.000000  sub-NDARGB441VVD_T1w       146   \n",
       "sub-NDARGB441VVD_T1w__ax_66   1.000000  sub-NDARGB441VVD_T1w        66   \n",
       "sub-NDARGB441VVD_T1w__ax_86   1.000000  sub-NDARGB441VVD_T1w        86   \n",
       "sub-NDARFW130NGG_T1w__ax_78   1.000000  sub-NDARFW130NGG_T1w        78   \n",
       "sub-NDARWJ019VGU_T1w__ax_145  1.000000  sub-NDARWJ019VGU_T1w       145   \n",
       "\n",
       "                              sort_values  \n",
       "image_id                                   \n",
       "sub-NDARJY141RFE_T1w__ax_73        1438.0  \n",
       "sub-NDARTT759PC5_T1w__ax_90        2584.0  \n",
       "sub-NDARXT792GY8_T1w__ax_186       3221.0  \n",
       "sub-NDARWT389BYY_T1w__ax_74        3021.0  \n",
       "sub-NDARHF904CWB_T1w__ax_99        1114.0  \n",
       "...                                   ...  \n",
       "sub-NDARGB441VVD_T1w__ax_146        912.0  \n",
       "sub-NDARGB441VVD_T1w__ax_66         913.0  \n",
       "sub-NDARGB441VVD_T1w__ax_86         914.0  \n",
       "sub-NDARFW130NGG_T1w__ax_78         863.0  \n",
       "sub-NDARWJ019VGU_T1w__ax_145       2960.0  \n",
       "\n",
       "[3607 rows x 4 columns]"
      ]
     },
     "execution_count": 12,
     "metadata": {},
     "output_type": "execute_result"
    }
   ],
   "source": [
    "# maps braindr image ids with csv ids and sorts for mean votes\n",
    "mean_votes = braindr_data_csv.groupby('image_id')['image_name','image_pos','vote'].mean()\n",
    "mean_votes['image_name'] = braindr_data_csv.groupby('image_id')['image_name'].min()\n",
    "mean_votes['image_pos'] = braindr_data_csv.groupby('image_id')['image_pos'].min()\n",
    "mean_votes['sort_values'] = [list(data_image_ids).index(i) if i in list(data_image_ids) else None for i in mean_votes.index.values]\n",
    "mean_votes = mean_votes[mean_votes['sort_values'].isnull() == False]\n",
    "mean_votes_sorted_vote = mean_votes.sort_values('vote')\n",
    "\n",
    "data_meanvotes = mean_votes\n",
    "mean_votes_sorted_vote"
   ]
  },
  {
   "cell_type": "code",
   "execution_count": 13,
   "metadata": {},
   "outputs": [],
   "source": [
    "#function for downloading images\n",
    "import urllib\n",
    "import matplotlib.pyplot as plt\n",
    "def get_image(img, path):\n",
    "    url = \"https://s3-us-west-2.amazonaws.com/akeshavan-mindcontrol/braindr/{}.jpg\".format(img)\n",
    "    urllib.request.urlretrieve(url,path + img+'.jpg')\n"
   ]
  },
  {
   "cell_type": "code",
   "execution_count": null,
   "metadata": {},
   "outputs": [],
   "source": [
    "# download all images \n",
    "# this will download serveral gbs of images\n",
    "image_ids = mean_votes_sorted_vote['image_name'].index\n",
    "\n",
    "download_path = '../data/image_download/'\n",
    "for id in image_ids :\n",
    "    get_image(id, download_path)"
   ]
  },
  {
   "cell_type": "code",
   "execution_count": 3,
   "metadata": {},
   "outputs": [],
   "source": [
    "# data from 3d to 2d images\n",
    "def rgb2gray(rgb):\n",
    "    return np.dot(rgb[...,:3], [0.2989, 0.5870, 0.1140])"
   ]
  },
  {
   "cell_type": "code",
   "execution_count": 15,
   "metadata": {},
   "outputs": [],
   "source": [
    "# put all images with labels from folder in  grayscale dimensions in numpy array\n",
    "path = '../data/image_download/'\n",
    "ftype = '.jpg'\n",
    "import glob\n",
    "from PIL import Image\n",
    "filelist = glob.glob(path + '*' + ftype)\n",
    "# for motion\n",
    "data = np.array([(rgb2gray(np.array(Image.open(fname))),fname.replace(path, '').replace(ftype,\"\")) for fname in filelist])\n",
    "\n",
    "# for gaussian\n",
    "#data = np.array([(rgb2gray(np.array(Image.open(fname)))) for fname in filelist])\n"
   ]
  },
  {
   "cell_type": "code",
   "execution_count": 12,
   "metadata": {},
   "outputs": [
    {
     "name": "stdout",
     "output_type": "stream",
     "text": [
      "Index(['sub-NDARED047DTH_T1w__ax_93', 'sub-NDARTU777GVV_T1w__ax_50',\n",
      "       'sub-NDARJM708VGE_T1w__ax_151', 'sub-NDARXX895FNJ_T1w__ax_165',\n",
      "       'sub-NDARLR030EW6_T1w__ax_156', 'sub-NDARBE641DGZ_T1w__ax_117',\n",
      "       'sub-NDARHP558MGA_T1w__ax_76', 'sub-NDARHP558MGA_T1w__ax_96',\n",
      "       'sub-NDARHM615PJH_T1w__ax_85', 'sub-NDARJM239GN4_T1w__ax_99',\n",
      "       ...\n",
      "       'sub-NDARFY612EMR_T1w__ax_81', 'sub-NDARFZ296UNG_T1w__ax_63',\n",
      "       'sub-NDARWV405ZW0_T1w__ax_145', 'sub-NDARGA967MGC_T1w__ax_81',\n",
      "       'sub-NDARGB040MGR_T1w__ax_79', 'sub-NDARGB441VVD_T1w__ax_146',\n",
      "       'sub-NDARGB441VVD_T1w__ax_66', 'sub-NDARGB441VVD_T1w__ax_86',\n",
      "       'sub-NDARFW130NGG_T1w__ax_78', 'sub-NDARWJ019VGU_T1w__ax_145'],\n",
      "      dtype='object', name='image_id', length=1200)\n"
     ]
    }
   ],
   "source": [
    "# only for motion, get ids from best 1200\n",
    "best_1200 = mean_votes_sorted_vote['image_name']\n",
    "best_1200 = mean_votes_sorted_vote.index[-1200:]\n",
    "print(best_1200)"
   ]
  },
  {
   "cell_type": "code",
   "execution_count": null,
   "metadata": {},
   "outputs": [],
   "source": []
  },
  {
   "cell_type": "code",
   "execution_count": 5,
   "metadata": {},
   "outputs": [],
   "source": [
    "# get images with (320, 320)  shape\n",
    "# for motion\n",
    "images = []\n",
    "for i in data:\n",
    "    if i[0].shape  == (320,320):\n",
    "        images.append(np.array(i))\n",
    "        \n",
    "images = np.array(images)\n",
    "\n",
    "## for gaussian\n",
    "# images = []\n",
    "# for i in data:\n",
    "#     if i.shape  == (320,320):\n",
    "#         images.append(np.array(i))\n",
    "        \n",
    "# images = np.array(images)\n",
    "\n"
   ]
  },
  {
   "cell_type": "code",
   "execution_count": 11,
   "metadata": {},
   "outputs": [
    {
     "name": "stdout",
     "output_type": "stream",
     "text": [
      "(1894, 320, 320)\n"
     ]
    }
   ],
   "source": [
    "print(images.shape)"
   ]
  },
  {
   "cell_type": "code",
   "execution_count": 14,
   "metadata": {},
   "outputs": [
    {
     "name": "stdout",
     "output_type": "stream",
     "text": [
      "(516, 320, 320)\n"
     ]
    }
   ],
   "source": [
    "#for motion, gets from 320 shape images the ones in best 1200 votes\n",
    "images_final = []\n",
    "for i in best_1200:\n",
    "    for row in images:\n",
    "        if i == row[1]:\n",
    "        \n",
    "            images_final.append(row[0])\n",
    "          \n",
    "    \n",
    "images_final = np.array(images_final)\n",
    "print(images_final.shape)"
   ]
  },
  {
   "cell_type": "code",
   "execution_count": 13,
   "metadata": {},
   "outputs": [],
   "source": [
    "# split in val and train\n",
    "\n",
    "#for motion\n",
    "X_val = train_test_split(images_final, test_size = 0.15, random_state = 1, shuffle=True)\n",
    "#for gaussian\n",
    "# X_train, X_val = train_test_split(images, test_size = 0.20, random_state = 1, shuffle=True)\n",
    "# X_train, X_test = train_test_split(X_train, test_size = 0.25, random_state = 1, shuffle=True)"
   ]
  },
  {
   "cell_type": "code",
   "execution_count": 16,
   "metadata": {},
   "outputs": [
    {
     "data": {
      "text/plain": [
       "<bound method File.close of <HDF5 file \"gaussian_data.hdf5\" (mode r+)>>"
      ]
     },
     "execution_count": 16,
     "metadata": {},
     "output_type": "execute_result"
    }
   ],
   "source": [
    "save motion\n",
    "hf = h5py.File('motion_data.hdf5', 'w')\n",
    "hf.create_dataset('train_data', data=X_train/255)\n",
    "hf.create_dataset('val_data', data=X_val/255)\n",
    "hf.close\n",
    "\n",
    "# # save gaussian\n",
    "# hf = h5py.File('gaussian_data.hdf5', 'w')\n",
    "# hf.create_dataset('train_data', data=X_train/255)\n",
    "# hf.create_dataset('val_data', data=X_val/255)\n",
    "# hf.create_dataset('test_data', data=X_test/255)\n",
    "# hf.close"
   ]
  },
  {
   "cell_type": "markdown",
   "metadata": {},
   "source": [
    "    "
   ]
  },
  {
   "cell_type": "code",
   "execution_count": null,
   "metadata": {},
   "outputs": [],
   "source": []
  },
  {
   "cell_type": "code",
   "execution_count": null,
   "metadata": {},
   "outputs": [],
   "source": []
  },
  {
   "cell_type": "code",
   "execution_count": null,
   "metadata": {},
   "outputs": [],
   "source": []
  },
  {
   "cell_type": "code",
   "execution_count": null,
   "metadata": {},
   "outputs": [],
   "source": []
  },
  {
   "cell_type": "code",
   "execution_count": null,
   "metadata": {},
   "outputs": [],
   "source": []
  },
  {
   "cell_type": "code",
   "execution_count": null,
   "metadata": {},
   "outputs": [],
   "source": []
  },
  {
   "cell_type": "code",
   "execution_count": null,
   "metadata": {},
   "outputs": [],
   "source": []
  },
  {
   "cell_type": "code",
   "execution_count": null,
   "metadata": {},
   "outputs": [],
   "source": []
  },
  {
   "cell_type": "code",
   "execution_count": null,
   "metadata": {},
   "outputs": [],
   "source": [
    "\n",
    "    "
   ]
  },
  {
   "cell_type": "code",
   "execution_count": null,
   "metadata": {},
   "outputs": [],
   "source": []
  },
  {
   "cell_type": "code",
   "execution_count": null,
   "metadata": {},
   "outputs": [],
   "source": [
    "\n"
   ]
  },
  {
   "cell_type": "code",
   "execution_count": null,
   "metadata": {},
   "outputs": [],
   "source": []
  },
  {
   "cell_type": "code",
   "execution_count": null,
   "metadata": {},
   "outputs": [],
   "source": []
  },
  {
   "cell_type": "code",
   "execution_count": 11,
   "metadata": {},
   "outputs": [],
   "source": []
  },
  {
   "cell_type": "code",
   "execution_count": null,
   "metadata": {},
   "outputs": [],
   "source": []
  },
  {
   "cell_type": "code",
   "execution_count": 17,
   "metadata": {},
   "outputs": [],
   "source": []
  },
  {
   "cell_type": "code",
   "execution_count": null,
   "metadata": {},
   "outputs": [],
   "source": []
  },
  {
   "cell_type": "code",
   "execution_count": null,
   "metadata": {},
   "outputs": [],
   "source": []
  },
  {
   "cell_type": "code",
   "execution_count": 5,
   "metadata": {},
   "outputs": [],
   "source": []
  },
  {
   "cell_type": "code",
   "execution_count": null,
   "metadata": {},
   "outputs": [],
   "source": []
  },
  {
   "cell_type": "code",
   "execution_count": 4,
   "metadata": {},
   "outputs": [],
   "source": []
  },
  {
   "cell_type": "code",
   "execution_count": null,
   "metadata": {},
   "outputs": [],
   "source": []
  },
  {
   "cell_type": "code",
   "execution_count": null,
   "metadata": {},
   "outputs": [],
   "source": []
  },
  {
   "cell_type": "code",
   "execution_count": null,
   "metadata": {},
   "outputs": [],
   "source": []
  },
  {
   "cell_type": "code",
   "execution_count": 17,
   "metadata": {},
   "outputs": [],
   "source": []
  },
  {
   "cell_type": "code",
   "execution_count": 18,
   "metadata": {},
   "outputs": [],
   "source": []
  },
  {
   "cell_type": "code",
   "execution_count": null,
   "metadata": {},
   "outputs": [],
   "source": []
  },
  {
   "cell_type": "code",
   "execution_count": 11,
   "metadata": {},
   "outputs": [],
   "source": []
  },
  {
   "cell_type": "code",
   "execution_count": null,
   "metadata": {},
   "outputs": [],
   "source": []
  },
  {
   "cell_type": "code",
   "execution_count": null,
   "metadata": {},
   "outputs": [],
   "source": []
  }
 ],
 "metadata": {
  "kernelspec": {
   "display_name": "Python 3",
   "language": "python",
   "name": "python3"
  },
  "language_info": {
   "codemirror_mode": {
    "name": "ipython",
    "version": 3
   },
   "file_extension": ".py",
   "mimetype": "text/x-python",
   "name": "python",
   "nbconvert_exporter": "python",
   "pygments_lexer": "ipython3",
   "version": "3.6.9"
  }
 },
 "nbformat": 4,
 "nbformat_minor": 2
}
